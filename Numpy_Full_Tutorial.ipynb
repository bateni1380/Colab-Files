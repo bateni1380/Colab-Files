{
  "nbformat": 4,
  "nbformat_minor": 0,
  "metadata": {
    "colab": {
      "provenance": [],
      "collapsed_sections": [
        "PsZIbxrUaOqk",
        "5FhDHY9ZbYW-",
        "eqZEkGKsQEb6",
        "RbGuBgBpZ7qv",
        "SKN0MJJLZHXf",
        "nRSBpptcjEFq",
        "HXbmOO3RjO-X",
        "OIjMD_55oGQP",
        "k0lzpiDqgDsa"
      ]
    },
    "kernelspec": {
      "name": "python3",
      "display_name": "Python 3"
    },
    "language_info": {
      "name": "python"
    }
  },
  "cells": [
    {
      "cell_type": "markdown",
      "source": [
        "###In the name of God\n",
        "###Copyright: Mohammad Reza Bateni - 2022 ([LinkedIn](https://ir.linkedin.com/in/mohammad-reza-bateni-a58936142))([Email](mailto:Bateni1380@gmail.com))\n"
      ],
      "metadata": {
        "id": "VCwiIxMb067r"
      }
    },
    {
      "cell_type": "markdown",
      "metadata": {
        "id": "3cfrOV4dL9hW"
      },
      "source": [
        "##Numpy"
      ]
    },
    {
      "cell_type": "markdown",
      "source": [
        "Numpy is a python library adding support for large, multi-dimensional arrays and matrices, along with a large collection of high-level mathematical functions to operate on these arrays. ([Wikipedia](https://en.wikipedia.org/wiki/NumPy))\n",
        "\n",
        "\n",
        "This library is written in C so its a lot faster than regular python, so its better to use numpy arrays, ratter than writing nested loops, because it makes a huge difference in running time of your application.\n",
        "\n",
        "By the way, performing calculations with numpy arrays and matrices allow's your computer to use benefits of multiprocessing so your program will execute even faster."
      ],
      "metadata": {
        "id": "RXCv5jHCPvy-"
      }
    },
    {
      "cell_type": "markdown",
      "source": [
        "###Installing Numpy"
      ],
      "metadata": {
        "id": "PsZIbxrUaOqk"
      }
    },
    {
      "cell_type": "markdown",
      "source": [
        "To install numpy, how should write pip install numpy in your commomd line, if you have problem installing numpy check out [here](https://numpy.org/install/)\n",
        "\n"
      ],
      "metadata": {
        "id": "1qfbItA0agEG"
      }
    },
    {
      "cell_type": "code",
      "source": [
        "!pip install numpy"
      ],
      "metadata": {
        "colab": {
          "base_uri": "https://localhost:8080/"
        },
        "id": "5MJQG2dBaS5e",
        "outputId": "db8d8adf-515a-43a6-bb0f-b00f805b2281"
      },
      "execution_count": null,
      "outputs": [
        {
          "output_type": "stream",
          "name": "stdout",
          "text": [
            "Looking in indexes: https://pypi.org/simple, https://us-python.pkg.dev/colab-wheels/public/simple/\n",
            "Requirement already satisfied: numpy in /usr/local/lib/python3.7/dist-packages (1.21.6)\n"
          ]
        }
      ]
    },
    {
      "cell_type": "markdown",
      "source": [
        "Then you should import this library at the begining of your program, then you are ready to go."
      ],
      "metadata": {
        "id": "4fzQo8V_bIwA"
      }
    },
    {
      "cell_type": "code",
      "execution_count": null,
      "metadata": {
        "id": "huqvVSLZfad6"
      },
      "outputs": [],
      "source": [
        "import numpy as np"
      ]
    },
    {
      "cell_type": "markdown",
      "source": [
        "###Proving that numpy arrays are much faster than nested loops (Optional)"
      ],
      "metadata": {
        "id": "5FhDHY9ZbYW-"
      }
    },
    {
      "cell_type": "markdown",
      "source": [
        "Theoretically, numpy arrays are faster than nested loops. because this library is written in C and C is so much faster than Python ([source](https://peter-jp-xie.medium.com/how-slow-is-python-compared-to-c-3795071ce82a)).\n",
        "and the other reason  is performing calculations with numpy arrays and matrices allow's your computer to use benefits of multiprocessing, so your program will execute even faster.\n",
        "\n",
        "Lets see if numpy is really faster than reqular python.\n",
        "\n",
        "In this program, I made a calculation for every elements in y that is 4000\\*4000 large. And each time, I printed the elapsed time to see if numpy is faster or not."
      ],
      "metadata": {
        "id": "uhcmRjvYjSpi"
      }
    },
    {
      "cell_type": "code",
      "source": [
        "import time\n",
        "\n",
        "start_time = time.time()\n",
        "x = [[[1]*3]*4000]*4000\n",
        "y = [[0]*4000]*4000\n",
        "for i in range(4000):\n",
        "  for j in range(4000):\n",
        "    y[i][j] = (x[i][j][0]+x[i][j][1]+x[i][j][2])\n",
        "print('Time elapsed with nested loop : ', time.time()-start_time, ' seconds.')\n",
        "\n",
        "start_time = time.time()\n",
        "x = np.ones([4000,4000,3])\n",
        "y = np.zeros([4000,4000])\n",
        "y = x[:][:][0]+x[:][:][1]+x[:][:][2]\n",
        "print('Time elapsed with numpy : ', time.time()-start_time, ' seconds.')\n",
        "\n"
      ],
      "metadata": {
        "colab": {
          "base_uri": "https://localhost:8080/"
        },
        "id": "LJQbjdXPbmrZ",
        "outputId": "78744319-a4fa-400c-b2ee-434ab8b8a9f2"
      },
      "execution_count": null,
      "outputs": [
        {
          "output_type": "stream",
          "name": "stdout",
          "text": [
            "Time elapsed with nested loop :  7.238420009613037  seconds.\n",
            "Time elapsed with numpy :  0.11594986915588379  seconds.\n"
          ]
        }
      ]
    },
    {
      "cell_type": "markdown",
      "source": [
        "Now we can see that numpy did the same calculation, 65 times faster!!!\n",
        "\n",
        "\n",
        "\n"
      ],
      "metadata": {
        "id": "2RmkkfR7jwcE"
      }
    },
    {
      "cell_type": "markdown",
      "source": [
        "###Defining a numpy array"
      ],
      "metadata": {
        "id": "eqZEkGKsQEb6"
      }
    },
    {
      "cell_type": "code",
      "source": [
        "# Creating arrays\n",
        "a = np.array([1, 2, 3]) # Create a rank 1 array (vector)\n",
        "print('1-d array (vector) : ', a)\n",
        "print('type: ',type(a),' shape:', a.shape,' value at (1) :', a[0]) # Print type and shape and values of the array\n",
        "\n",
        "b = np.array([[1, 2],\n",
        "              [3, 4]]) # Create a rank 2 array (matrice)\n",
        "print('\\n2-d array (matrice) : ')\n",
        "print(b)\n",
        "print('type: ',type(b),' shape:', b.shape,' value at (1,0) :', b[1,0]) # Print type and shape and values of the array\n",
        "\n",
        "c = np.array([[[1, 2],\n",
        "               [3, 4]],\n",
        "              [[5, 6],\n",
        "               [7, 8]]]) # Create a rank n array\n",
        "print('\\nn-d array : ')     \n",
        "print(c)\n",
        "print('type: ',type(c),' shape:', c.shape,' value at (0,0,1) :', c[0,0,1]) # Print type and shape and values of the array"
      ],
      "metadata": {
        "colab": {
          "base_uri": "https://localhost:8080/"
        },
        "id": "EfPer1ZlQUoC",
        "outputId": "0bb9a875-30f9-4eca-cc33-1cad5824df6e"
      },
      "execution_count": null,
      "outputs": [
        {
          "output_type": "stream",
          "name": "stdout",
          "text": [
            "1-d array (vector) :  [1 2 3]\n",
            "type:  <class 'numpy.ndarray'>  shape: (3,)  value at (1) : 1\n",
            "\n",
            "2-d array (matrice) : \n",
            "[[1 2]\n",
            " [3 4]]\n",
            "type:  <class 'numpy.ndarray'>  shape: (2, 2)  value at (1,0) : 3\n",
            "\n",
            "n-d array : \n",
            "[[[1 2]\n",
            "  [3 4]]\n",
            "\n",
            " [[5 6]\n",
            "  [7 8]]]\n",
            "type:  <class 'numpy.ndarray'>  shape: (2, 2, 2)  value at (0,0,1) : 2\n"
          ]
        }
      ]
    },
    {
      "cell_type": "code",
      "source": [
        "# Other methods to create an array\n",
        "\n",
        "print('Other methods to create an array : ')\n",
        "\n",
        "print('\\nCreating an array of all zeros - np.zeros((n,m)) : ')\n",
        "a = np.zeros((2,2))  # Create an array of all zeros\n",
        "print(a)\n",
        "\n",
        "print('\\nCreating a 3-d array of all ones - np.ones((n,m)) : ')\n",
        "b = np.ones((2,2,2))   # Create an array of all ones\n",
        "print(b)\n",
        "\n",
        "print('\\nCreating a constant array - np.full((n,m),c) : ')\n",
        "c = np.full((2,2), 7) # Create a constant array\n",
        "print(c)\n",
        "\n",
        "print('\\nCreating an n\\*n identity matrix - np.eye(n) : ')\n",
        "d = np.eye(2)        # Create a 2x2 identity matrix\n",
        "print(d)\n",
        "\n",
        "print('\\nCreating an array filled with random values between 0 and 1 - np.random.random((n,m)) : ')\n",
        "e = np.random.random((2,2)) # Create an array filled with random values between 0 and 1\n",
        "print(e)"
      ],
      "metadata": {
        "colab": {
          "base_uri": "https://localhost:8080/"
        },
        "id": "SFcIa3QZWzoL",
        "outputId": "4a342c17-d99c-4565-ab4c-21166e97c266"
      },
      "execution_count": null,
      "outputs": [
        {
          "output_type": "stream",
          "name": "stdout",
          "text": [
            "Other methods to create an array : \n",
            "\n",
            "Creating an array of all zeros - np.zeros((n,m)) : \n",
            "[[0. 0.]\n",
            " [0. 0.]]\n",
            "\n",
            "Creating a 3-d array of all ones - np.ones((n,m)) : \n",
            "[[[1. 1.]\n",
            "  [1. 1.]]\n",
            "\n",
            " [[1. 1.]\n",
            "  [1. 1.]]]\n",
            "\n",
            "Creating a constant array - np.full((n,m),c) : \n",
            "[[7 7]\n",
            " [7 7]]\n",
            "\n",
            "Creating an n\\*n identity matrix - np.eye(n) : \n",
            "[[1. 0.]\n",
            " [0. 1.]]\n",
            "\n",
            "Creating an array filled with random values between 0 and 1 - np.random.random((n,m)) : \n",
            "[[0.19737071 0.53960848]\n",
            " [0.87533119 0.07503855]]\n"
          ]
        }
      ]
    },
    {
      "cell_type": "code",
      "source": [
        "# Methods to create a vector\n",
        "\n",
        "print('Other methods to create a vector : ')\n",
        "\n",
        "print('\\nCreating a vector, containing numbers from 0 to 10 with spaces of 1.5 - np.arange(0,10,1.5) : ')\n",
        "a = np.arange(0,10,1.5)  # Create an array of all zeros\n",
        "print(a)\n",
        "\n",
        "print('\\nCreating a vector, containing 6 numbers from 0 to 10 with equal spaces - np.linspace(0,10,6) : ')\n",
        "a = np.linspace(0,10,6)  # Create an array of all zeros\n",
        "print(a)"
      ],
      "metadata": {
        "colab": {
          "base_uri": "https://localhost:8080/"
        },
        "id": "LCRDPk0Dha2a",
        "outputId": "419e6913-9a8a-4b84-f3ec-27644645f696"
      },
      "execution_count": null,
      "outputs": [
        {
          "output_type": "stream",
          "name": "stdout",
          "text": [
            "Other methods to create a vector : \n",
            "\n",
            "Creating a vector, containing numbers from 0 to 10 with spaces of 1.5 - np.arange(0,10,1.5) : \n",
            "[0.  1.5 3.  4.5 6.  7.5 9. ]\n",
            "\n",
            "Creating a vector, containing 6 numbers from 0 to 10 with equal spaces - np.linspace(0,10,6) : \n",
            "[ 0.  2.  4.  6.  8. 10.]\n"
          ]
        }
      ]
    },
    {
      "cell_type": "code",
      "source": [
        "# Copying an array\n",
        "\n",
        "x = np.array([[1, 2],\n",
        "              [3, 4]])\n",
        "print('Original array: ')\n",
        "print(x)\n",
        "\n",
        "print('Copied array - x.copy(): ')\n",
        "y = x.copy()  # Also try y = x to see the difference...\n",
        "print(y)\n",
        "\n",
        "print('\\nChanging the copied array values... ')\n",
        "y[0,0]=100\n",
        "\n",
        "print('\\nOriginal array: ')\n",
        "print(x)\n",
        "print('Copied array: ')\n",
        "print(y)"
      ],
      "metadata": {
        "colab": {
          "base_uri": "https://localhost:8080/"
        },
        "id": "WMoM1PVbtdMZ",
        "outputId": "f8dda8a7-c493-4891-9a6f-58e7e034a699"
      },
      "execution_count": null,
      "outputs": [
        {
          "output_type": "stream",
          "name": "stdout",
          "text": [
            "Original array: \n",
            "[[1 2]\n",
            " [3 4]]\n",
            "Copied array - x.copy(): \n",
            "[[1 2]\n",
            " [3 4]]\n",
            "\n",
            "Changing the copied array values... \n",
            "\n",
            "Original array: \n",
            "[[1 2]\n",
            " [3 4]]\n",
            "Copied array: \n",
            "[[100   2]\n",
            " [  3   4]]\n"
          ]
        }
      ]
    },
    {
      "cell_type": "code",
      "source": [
        "# Reshaping an array\n",
        "\n",
        "x = np.array([[1, 2, 3, 4],\n",
        "              [5, 6, 7, 8],\n",
        "              [9,10,11,12]])\n",
        "print('Base array: ')\n",
        "print(x)\n",
        "\n",
        "print('\\nFlattened array to a 1-d vector - x.flatten() : ')\n",
        "print(x.flatten()) \n",
        "\n",
        "print('\\nReshaped array - x.reshape([2,6]) : ')\n",
        "print(x.reshape([2,6]))\n",
        "\n",
        "print('\\nReshaped array - x.reshape([4,3]) : ')\n",
        "print(x.reshape([4,3]))"
      ],
      "metadata": {
        "colab": {
          "base_uri": "https://localhost:8080/"
        },
        "id": "AoEzYpUCy-aO",
        "outputId": "173509da-ec5d-4192-cf85-0f7db69f282e"
      },
      "execution_count": null,
      "outputs": [
        {
          "output_type": "stream",
          "name": "stdout",
          "text": [
            "Base array: \n",
            "[[ 1  2  3  4]\n",
            " [ 5  6  7  8]\n",
            " [ 9 10 11 12]]\n",
            "\n",
            "Flattened array to a 1-d vector - x.flatten() : \n",
            "[ 1  2  3  4  5  6  7  8  9 10 11 12]\n",
            "\n",
            "Reshaped array - x.reshape([2,6]) : \n",
            "[[ 1  2  3  4  5  6]\n",
            " [ 7  8  9 10 11 12]]\n",
            "\n",
            "Reshaped array - x.reshape([4,3]) : \n",
            "[[ 1  2  3]\n",
            " [ 4  5  6]\n",
            " [ 7  8  9]\n",
            " [10 11 12]]\n"
          ]
        }
      ]
    },
    {
      "cell_type": "code",
      "source": [
        "# Methods to create arrays from another array\n",
        "\n",
        "x = np.array([[1, 2],\n",
        "              [3, 4]])\n",
        "print('Base array: ')\n",
        "print(x)\n",
        "\n",
        "print('\\nArray with zeros with same shape as base array - np.zeros_like(x): ')\n",
        "print(np.zeros_like(x))\n",
        "\n",
        "print('\\nArray with ones with same shape as base array - np.ones_like(x): ')\n",
        "print(np.ones_like(x))\n",
        "\n",
        "print('\\nArray with constants with same shape as base array - np.full_like(x, c): ')\n",
        "print(np.full_like(x,100))\n",
        "\n",
        "print('\\nMake an array with given size, the place all of cells with a given array - np.tile(x, shape): ')\n",
        "print(np.tile(x,[2,3]))\n"
      ],
      "metadata": {
        "colab": {
          "base_uri": "https://localhost:8080/"
        },
        "id": "DBLdHLzQpEQz",
        "outputId": "32a34a28-72c8-4533-ee2c-c36ecaf8a85e"
      },
      "execution_count": null,
      "outputs": [
        {
          "output_type": "stream",
          "name": "stdout",
          "text": [
            "Base array: \n",
            "[[1 2]\n",
            " [3 4]]\n",
            "\n",
            "Array with zeros with same shape as base array - np.zeros_like(x): \n",
            "[[0 0]\n",
            " [0 0]]\n",
            "\n",
            "Array with ones with same shape as base array - np.ones_like(x): \n",
            "[[1 1]\n",
            " [1 1]]\n",
            "\n",
            "Array with constants with same shape as base array - np.full_like(x, c): \n",
            "[[100 100]\n",
            " [100 100]]\n",
            "\n",
            "Make an array with given size, the place all of cells with a given array - np.tile(x, shape): \n",
            "[[1 2 1 2 1 2]\n",
            " [3 4 3 4 3 4]\n",
            " [1 2 1 2 1 2]\n",
            " [3 4 3 4 3 4]]\n"
          ]
        }
      ]
    },
    {
      "cell_type": "markdown",
      "source": [
        "To see full documantion about array creation see [here](https://numpy.org/doc/stable/reference/routines.array-creation.html)."
      ],
      "metadata": {
        "id": "QR4wFcTnuwsY"
      }
    },
    {
      "cell_type": "markdown",
      "source": [
        "###Datatypes"
      ],
      "metadata": {
        "id": "RbGuBgBpZ7qv"
      }
    },
    {
      "cell_type": "code",
      "source": [
        "x = np.array([1, 2])                      # Let numpy choose the datatype\n",
        "y = np.array([1.0, 2.0])                  # Let numpy choose the datatype\n",
        "z = np.array([1.5, 2], dtype=np.float64)  # Force a particular datatype\n",
        "#Some useful datatypes : np.bool8 , np.uint16 , np.int32 , np.float64 , np.complex128\n",
        "\n",
        "print('x: ', x, '\\ttype: ', x.dtype)\n",
        "print('y: ', y, '\\ttype: ', y.dtype)\n",
        "print('z: ', z, '\\ttype: ', z.dtype)"
      ],
      "metadata": {
        "colab": {
          "base_uri": "https://localhost:8080/"
        },
        "id": "LpPXMuDIZ-K8",
        "outputId": "18f8fdd7-3d7c-4b16-94fc-22168a25c2df"
      },
      "execution_count": null,
      "outputs": [
        {
          "output_type": "stream",
          "name": "stdout",
          "text": [
            "x:  [1 2] \ttype:  int64\n",
            "y:  [1. 2.] \ttype:  float64\n",
            "z:  [1.5 2. ] \ttype:  float64\n"
          ]
        }
      ]
    },
    {
      "cell_type": "code",
      "source": [
        "# Convert a numpy array to another datatype.\n",
        "x = np.array([1.7, 2.1])    \n",
        "print('Array before converting to int : ', x)\n",
        "x = x.astype(int)\n",
        "print('Array after converting to int  : ', x)"
      ],
      "metadata": {
        "colab": {
          "base_uri": "https://localhost:8080/"
        },
        "id": "omwIpttHew4a",
        "outputId": "f08eb15a-0cbe-48f9-b1bc-d003f3378e86"
      },
      "execution_count": null,
      "outputs": [
        {
          "output_type": "stream",
          "name": "stdout",
          "text": [
            "Array before converting to int :  [1.7 2.1]\n",
            "Array after converting to int  :  [1 2]\n"
          ]
        }
      ]
    },
    {
      "cell_type": "markdown",
      "source": [
        "###Array indexing"
      ],
      "metadata": {
        "id": "SKN0MJJLZHXf"
      }
    },
    {
      "cell_type": "code",
      "source": [
        "# Accessing different parts of the array.\n",
        "\n",
        "a = np.array([[1, 2, 3],[4, 5, 6],[7, 8, 9]])  # Create a rank 2 array\n",
        "print('Whole array - a : ')\n",
        "print(a)                 # Print the whole array\n",
        "\n",
        "print('\\nA point via its coordinates - a[0,2] : ')\n",
        "print(a[0,2]) # Print a point via its coordinates\n",
        "\n",
        "print('\\nSome points via coordinates - a[[0,1],[0,2]] : ')\n",
        "print(a[[0,1],[0,2]]) # Print some points via coordinates\n",
        "\n",
        "print('\\nA part of the array - a[0:2,1:3] : ')\n",
        "print(a[0:2,1:3])        # Print a part of the array\n",
        "\n",
        "print('\\nSome columns of the array - a[:,[0,1]] : ')\n",
        "print(a[:,[0,1]]) # Print some columns of the array\n",
        "\n",
        "print('\\nSome rows of the array - a[[0,1],:] : ')\n",
        "print(a[[0,1],:]) # Print some rows of the array"
      ],
      "metadata": {
        "colab": {
          "base_uri": "https://localhost:8080/"
        },
        "id": "K8dqNsolRCvZ",
        "outputId": "e5ee0ac5-abfa-4f55-e5cb-e1ac9ec4657b"
      },
      "execution_count": null,
      "outputs": [
        {
          "output_type": "stream",
          "name": "stdout",
          "text": [
            "Whole array - a : \n",
            "[[1 2 3]\n",
            " [4 5 6]\n",
            " [7 8 9]]\n",
            "\n",
            "A point via its coordinates - a[0,2] : \n",
            "3\n",
            "\n",
            "Some points via coordinates - a[[0,1],[0,2]] : \n",
            "[1 6]\n",
            "\n",
            "A part of the array - a[0:2,1:3] : \n",
            "[[2 3]\n",
            " [5 6]]\n",
            "\n",
            "Some columns of the array - a[:,[0,1]] : \n",
            "[[1 2]\n",
            " [4 5]\n",
            " [7 8]]\n",
            "\n",
            "Some rows of the array - a[[0,1],:] : \n",
            "[[1 2 3]\n",
            " [4 5 6]]\n"
          ]
        }
      ]
    },
    {
      "cell_type": "markdown",
      "source": [
        "**Ellipsis in indexing**\n",
        "\n",
        "When you use ... in indexing multi dimentional arrays, it means just put as many : needed. for example if A has shape of (3,100,200,300,400) then (...,10) is equivalent to ( :  ,  :  ,  :  ,  :  ,  10) and (0,...,10) is equivalent to ( 0  ,  :  ,  :  ,  :  ,  10)."
      ],
      "metadata": {
        "id": "u5KkdlVte6-m"
      }
    },
    {
      "cell_type": "code",
      "source": [
        "# Ellipsis in indexing\n",
        "\n",
        "a = np.arange(32).reshape([2,2,2,2,2])\n",
        "print('a[0,:,:,:,0]')\n",
        "print(a[0,:,:,:,0])\n",
        "print('\\na[0,...,0]')\n",
        "print(a[0,...,0])"
      ],
      "metadata": {
        "colab": {
          "base_uri": "https://localhost:8080/"
        },
        "id": "Ty5YEl8CeGkV",
        "outputId": "ec7e3270-8b32-47d7-bdb0-d1687dafd40a"
      },
      "execution_count": null,
      "outputs": [
        {
          "output_type": "stream",
          "name": "stdout",
          "text": [
            "a[0,:,:,:,0]\n",
            "[[[ 0  2]\n",
            "  [ 4  6]]\n",
            "\n",
            " [[ 8 10]\n",
            "  [12 14]]]\n",
            "\n",
            "a[0,...,0]\n",
            "[[[ 0  2]\n",
            "  [ 4  6]]\n",
            "\n",
            " [[ 8 10]\n",
            "  [12 14]]]\n"
          ]
        }
      ]
    },
    {
      "cell_type": "code",
      "source": [
        "a = np.array([[1, 2, 3],[4, 5, 6],[7, 8, 9]])  # Create a rank 2 array\n",
        "print('Whole array before changing - a : ')\n",
        "print(a)\n",
        "\n",
        "print('\\nChanging a part of the array - a[0:2,0:2] : ')\n",
        "a[0:2,0:2] = np.array([[100,100],[100,100]])  # Changing a part of the array\n",
        "\n",
        "print('\\nWhole array after changing - a : ')\n",
        "print(a)"
      ],
      "metadata": {
        "colab": {
          "base_uri": "https://localhost:8080/"
        },
        "id": "tfc1wD5uV1Og",
        "outputId": "44a4605d-05cd-4434-d740-762cd758ec96"
      },
      "execution_count": null,
      "outputs": [
        {
          "output_type": "stream",
          "name": "stdout",
          "text": [
            "Whole array before changing - a : \n",
            "[[1 2 3]\n",
            " [4 5 6]\n",
            " [7 8 9]]\n",
            "\n",
            "Changing a part of the array - a[0:2,0:2] : \n",
            "\n",
            "Whole array after changing - a : \n",
            "[[100 100   3]\n",
            " [100 100   6]\n",
            " [  7   8   9]]\n"
          ]
        }
      ]
    },
    {
      "cell_type": "markdown",
      "source": [
        "###Mathematical operations"
      ],
      "metadata": {
        "id": "ojw3L9MwgMqG"
      }
    },
    {
      "cell_type": "markdown",
      "source": [
        "####Basic operations"
      ],
      "metadata": {
        "id": "nRSBpptcjEFq"
      }
    },
    {
      "cell_type": "code",
      "source": [
        "x = np.array([[1,2],[3,4]], dtype=np.float64)\n",
        "print('First array: ')\n",
        "print(x)\n",
        "y = np.array([[5,6],[7,8]], dtype=np.float64)\n",
        "print('Second array: ')\n",
        "print(y)\n",
        "\n",
        "# Elementwise sum\n",
        "print('\\nElementwise sum - x+y : ')\n",
        "print(x + y)\n",
        "print('Elementwise sum - np.add(x, y) : ')\n",
        "print(np.add(x, y))\n",
        "\n",
        "# Elementwise difference\n",
        "print('\\nElementwise difference - x-y : ')\n",
        "print(x - y)\n",
        "print('Elementwise difference - np.subtract(x, y) : ')\n",
        "print(np.subtract(x, y))\n",
        "\n",
        "# Elementwise product\n",
        "print('\\nElementwise product - x*y : ')\n",
        "print(x * y)\n",
        "print('Elementwise product - np.multiply(x, y) : ')\n",
        "print(np.multiply(x, y))\n",
        "\n",
        "# Elementwise division\n",
        "print('\\nElementwise division - x/y : ')\n",
        "print(x / y)\n",
        "print('Elementwise division - np.divide(x, y) : ')\n",
        "print(np.divide(x, y))"
      ],
      "metadata": {
        "colab": {
          "base_uri": "https://localhost:8080/"
        },
        "id": "K9nKdxs-gRzA",
        "outputId": "2ece03b0-149c-4dae-cb9e-3037ac3a198e"
      },
      "execution_count": null,
      "outputs": [
        {
          "output_type": "stream",
          "name": "stdout",
          "text": [
            "First array: \n",
            "[[1. 2.]\n",
            " [3. 4.]]\n",
            "Second array: \n",
            "[[5. 6.]\n",
            " [7. 8.]]\n",
            "\n",
            "Elementwise sum - x+y : \n",
            "[[ 6.  8.]\n",
            " [10. 12.]]\n",
            "Elementwise sum - np.add(x, y) : \n",
            "[[ 6.  8.]\n",
            " [10. 12.]]\n",
            "\n",
            "Elementwise difference - x-y : \n",
            "[[-4. -4.]\n",
            " [-4. -4.]]\n",
            "Elementwise difference - np.subtract(x, y) : \n",
            "[[-4. -4.]\n",
            " [-4. -4.]]\n",
            "\n",
            "Elementwise product - x*y : \n",
            "[[ 5. 12.]\n",
            " [21. 32.]]\n",
            "Elementwise product - np.multiply(x, y) : \n",
            "[[ 5. 12.]\n",
            " [21. 32.]]\n",
            "\n",
            "Elementwise division - x/y : \n",
            "[[0.2        0.33333333]\n",
            " [0.42857143 0.5       ]]\n",
            "Elementwise division - np.divide(x, y) : \n",
            "[[0.2        0.33333333]\n",
            " [0.42857143 0.5       ]]\n"
          ]
        }
      ]
    },
    {
      "cell_type": "markdown",
      "source": [
        "####Elementwise functions"
      ],
      "metadata": {
        "id": "da9ZI5z8jKKh"
      }
    },
    {
      "cell_type": "code",
      "source": [
        "x = np.array([[1.5,2.5],[3.5,4]], dtype=np.float64)\n",
        "print('First array: ')\n",
        "print(x)\n",
        "\n",
        "print('\\nElementwise power root - np.power(x, 2) : ')\n",
        "print(np.power(x, 2))\n",
        "print('\\nElementwise square root - np.sqrt(x) : ')\n",
        "print(np.sqrt(x))\n",
        "print('\\nElementwise sinus - np.sin(x) : ')\n",
        "print(np.sin(x))\n",
        "print('\\nElementwise floor - np.floor(x) : ')\n",
        "print(np.floor(x))\n",
        "print('\\nElementwise log - np.log(x) : ')\n",
        "print(np.log(x))"
      ],
      "metadata": {
        "colab": {
          "base_uri": "https://localhost:8080/"
        },
        "id": "M9_qJkG0h0Wa",
        "outputId": "62d3da8d-eb27-4047-b349-5f203e83ccbf"
      },
      "execution_count": null,
      "outputs": [
        {
          "output_type": "stream",
          "name": "stdout",
          "text": [
            "First array: \n",
            "[[1.5 2.5]\n",
            " [3.5 4. ]]\n",
            "\n",
            "Elementwise power root - np.power(x, 2) : \n",
            "[[ 2.25  6.25]\n",
            " [12.25 16.  ]]\n",
            "\n",
            "Elementwise square root - np.sqrt(x) : \n",
            "[[1.22474487 1.58113883]\n",
            " [1.87082869 2.        ]]\n",
            "\n",
            "Elementwise sinus - np.sin(x) : \n",
            "[[ 0.99749499  0.59847214]\n",
            " [-0.35078323 -0.7568025 ]]\n",
            "\n",
            "Elementwise floor - np.floor(x) : \n",
            "[[1. 2.]\n",
            " [3. 4.]]\n",
            "\n",
            "Elementwise log - np.log(x) : \n",
            "[[0.40546511 0.91629073]\n",
            " [1.25276297 1.38629436]]\n"
          ]
        }
      ]
    },
    {
      "cell_type": "markdown",
      "source": [
        "To see full documantion about these functions see [here](https://numpy.org/doc/stable/reference/routines.math.html)."
      ],
      "metadata": {
        "id": "mtuHlHs2jr1_"
      }
    },
    {
      "cell_type": "markdown",
      "source": [
        "####Linear algebra"
      ],
      "metadata": {
        "id": "HXbmOO3RjO-X"
      }
    },
    {
      "cell_type": "code",
      "source": [
        "x = np.array([[1,2],[3,4]])\n",
        "print('First array: ')\n",
        "print(x)\n",
        "y = np.array([[5,6],[7,8]])\n",
        "print('Second array: ')\n",
        "print(y)\n",
        "\n",
        "# Inner product of matrices\n",
        "print('\\nInner product of matrices - np.dot(x, y) : ')\n",
        "print(np.dot(x, y))\n",
        "print('Inner product of matrices - x.dot(y) : ')\n",
        "print(x.dot(y))\n",
        "print('Inner product of matrices - x@y : ')\n",
        "print(x@y)\n",
        "\n",
        "# Transpose of matrices\n",
        "print('\\nTranspose of the first matrice - x.T : ')\n",
        "print(x.T)"
      ],
      "metadata": {
        "colab": {
          "base_uri": "https://localhost:8080/"
        },
        "id": "evzoMqXakCur",
        "outputId": "9704937e-e2a2-4cfa-a65c-64f3c6ad323b"
      },
      "execution_count": null,
      "outputs": [
        {
          "output_type": "stream",
          "name": "stdout",
          "text": [
            "First array: \n",
            "[[1 2]\n",
            " [3 4]]\n",
            "Second array: \n",
            "[[5 6]\n",
            " [7 8]]\n",
            "\n",
            "Inner product of matrices - np.dot(x, y) : \n",
            "[[19 22]\n",
            " [43 50]]\n",
            "Inner product of matrices - x.dot(y) : \n",
            "[[19 22]\n",
            " [43 50]]\n",
            "Inner product of matrices - x@y : \n",
            "[[19 22]\n",
            " [43 50]]\n",
            "\n",
            "Transpose of the first matrice - x.T : \n",
            "[[1 3]\n",
            " [2 4]]\n"
          ]
        }
      ]
    },
    {
      "cell_type": "code",
      "source": [
        "v = np.array([1,2,3,4])\n",
        "print('Vector: ')\n",
        "print(v)\n",
        "x = np.array([[1,2],[3,4]])\n",
        "print('Matrice: ')\n",
        "print(x)\n",
        "\n",
        "# Norm of matrices\n",
        "print('\\nSecond norm of the vector - np.linalg.norm(v, ord=2) : ', np.linalg.norm(v, ord=2))\n",
        "print('Infinity norm of the vector - np.linalg.norm(v, ord=np.inf) : ', np.linalg.norm(v, ord=np.inf))\n",
        "print('Frobenius norm of the matrice - np.linalg.norm(x, ord=\\'fro\\') : ', np.linalg.norm(x, ord='fro'))\n",
        "\n",
        "print('\\nCondition number of array x - np.linalg.cond(x) : ', np.linalg.cond(x))\n",
        "print('Determinant of array x - np.linalg.det(x) : ', np.linalg.det(x))\n",
        "print('Sum along diagonals of the array - np.trace(x) : ', np.trace(x))\n",
        "\n",
        "\n",
        "print('\\nMultiplicative inverse of a matrix - np.linalg.inv(x) : ')\n",
        "print(np.linalg.inv(x))\n",
        "\n",
        "print('\\nEigenvalues and right eigenvectors of square array x - np.linalg.eig(x) : ')\n",
        "print(np.linalg.eig(x))"
      ],
      "metadata": {
        "colab": {
          "base_uri": "https://localhost:8080/"
        },
        "id": "SIM33BeAmS-_",
        "outputId": "9f5c008c-cbd1-4809-8311-d14c86deda52"
      },
      "execution_count": null,
      "outputs": [
        {
          "output_type": "stream",
          "name": "stdout",
          "text": [
            "Vector: \n",
            "[1 2 3 4]\n",
            "Matrice: \n",
            "[[1 2]\n",
            " [3 4]]\n",
            "\n",
            "Second norm of the vector - np.linalg.norm(v, ord=2) :  5.477225575051661\n",
            "Infinity norm of the vector - np.linalg.norm(v, ord=np.inf) :  4.0\n",
            "Frobenius norm of the matrice - np.linalg.norm(x, ord='fro') :  5.477225575051661\n",
            "\n",
            "Condition number of array x - np.linalg.cond(x) :  14.933034373659268\n",
            "Determinant of array x - np.linalg.det(x) :  -2.0000000000000004\n",
            "Sum along diagonals of the array - np.trace(x) :  5\n",
            "\n",
            "Multiplicative inverse of a matrix - np.linalg.inv(x) : \n",
            "[[-2.   1. ]\n",
            " [ 1.5 -0.5]]\n",
            "\n",
            "Eigenvalues and right eigenvectors of square array x - np.linalg.eig(x) : \n",
            "(array([-0.37228132,  5.37228132]), array([[-0.82456484, -0.41597356],\n",
            "       [ 0.56576746, -0.90937671]]))\n"
          ]
        }
      ]
    },
    {
      "cell_type": "markdown",
      "source": [
        "To see full documantion about linalg class see [here](https://numpy.org/doc/stable/reference/generated/numpy.linalg.norm.html)."
      ],
      "metadata": {
        "id": "368cjMqrnVrc"
      }
    },
    {
      "cell_type": "markdown",
      "source": [
        "####Broadcasting"
      ],
      "metadata": {
        "id": "OIjMD_55oGQP"
      }
    },
    {
      "cell_type": "markdown",
      "source": [
        "Broadcasting is a mechanism to perform operations on arrays with diffrent shapes.\n",
        "\n",
        "Suppose we have an n\\*m matrice and we want to add each row of it to an n\\*1 vector, we can copy the vector for m times and stack them together and add the result to the first matrice, but numpy does the same thing automatically (using broadcasting) as shown below: "
      ],
      "metadata": {
        "id": "Phbf1lh4vIf2"
      }
    },
    {
      "cell_type": "code",
      "source": [
        "x = np.array([[1,2],[3,4],[5,6]])\n",
        "print('Matrice: ')\n",
        "print(x)\n",
        "v = np.array([100,200])\n",
        "print('Vector: ')\n",
        "print(v)\n",
        "\n",
        "vv = np.tile(v, (3, 1))  # Stack 3 copies of v on top of each other\n",
        "print('\\nStacked vectors - : np.tile(v, (3, 1)) : ')\n",
        "print(vv) \n",
        "\n",
        "print('\\nSum of x and stacked vectors - x+vv : ')\n",
        "print(x+vv)\n",
        "\n",
        "print('\\nSum of x and original vector, using broadcasting - x+v : ')\n",
        "print(x+v)\n"
      ],
      "metadata": {
        "colab": {
          "base_uri": "https://localhost:8080/"
        },
        "id": "SoKqCW6Bozcr",
        "outputId": "d75246fe-64a7-43f2-ae18-460108dc8445"
      },
      "execution_count": null,
      "outputs": [
        {
          "output_type": "stream",
          "name": "stdout",
          "text": [
            "Matrice: \n",
            "[[1 2]\n",
            " [3 4]\n",
            " [5 6]]\n",
            "Vector: \n",
            "[100 200]\n",
            "\n",
            "Stacked vectors - : np.tile(v, (3, 1)) : \n",
            "[[100 200]\n",
            " [100 200]\n",
            " [100 200]]\n",
            "\n",
            "Sum of x and stacked vectors - x+vv : \n",
            "[[101 202]\n",
            " [103 204]\n",
            " [105 206]]\n",
            "\n",
            "Sum of x and original vector, using broadcasting - x+v : \n",
            "[[101 202]\n",
            " [103 204]\n",
            " [105 206]]\n"
          ]
        }
      ]
    },
    {
      "cell_type": "markdown",
      "source": [
        "And thats why you can add an array to an scalar or multiply an array by a different shape array."
      ],
      "metadata": {
        "id": "SKoBUOTkyXkx"
      }
    },
    {
      "cell_type": "code",
      "source": [
        "x = np.array([[1,2],[3,4]])\n",
        "print('Matrice: ')\n",
        "print(x)\n",
        "\n",
        "print('\\nSum of x and an scalar, using broadcasting - x+scalar : ')\n",
        "print(x+100)\n",
        "\n",
        "v = np.array([100,200])\n",
        "print('\\nVector: ')\n",
        "print(v)\n",
        "print('Product of x by a vector, using broadcasting - x*v : ')\n",
        "print(x*v)"
      ],
      "metadata": {
        "colab": {
          "base_uri": "https://localhost:8080/"
        },
        "id": "WItZCpTtyz2b",
        "outputId": "96c0b3c7-ab42-4eb6-b512-d3e915807b31"
      },
      "execution_count": null,
      "outputs": [
        {
          "output_type": "stream",
          "name": "stdout",
          "text": [
            "Matrice: \n",
            "[[1 2]\n",
            " [3 4]]\n",
            "\n",
            "Sum of x and an scalar, using broadcasting - x+scalar : \n",
            "[[101 102]\n",
            " [103 104]]\n",
            "\n",
            "Vector: \n",
            "[100 200]\n",
            "Product of x by a vector, using broadcasting - x*v : \n",
            "[[100 400]\n",
            " [300 800]]\n"
          ]
        }
      ]
    },
    {
      "cell_type": "markdown",
      "source": [
        "What this mechanism does is basicly it appends dimentions with lengh 1 to the shorter array (the array with less dimantions) to make arrays dimensions quantity, the same. then it loops on each dimention:\n",
        "\n",
        "\n",
        "\n",
        "*   If the shapes in that dimention are the same, it does nothing.\n",
        "*   If one of the shapes is 1, then it copies the array along that dimention until the arrays get same shape on that dimention.\n",
        "*   If none of above cases happens, it raises an exception.\n",
        "\n"
      ],
      "metadata": {
        "id": "hEzhLvMw1jcA"
      }
    },
    {
      "cell_type": "markdown",
      "source": [
        "To see full documantion on broadcasting see [here](https://numpy.org/doc/stable/user/basics.broadcasting.html)."
      ],
      "metadata": {
        "id": "Ih0rMtHV1QfK"
      }
    },
    {
      "cell_type": "markdown",
      "source": [
        "####Collective Functions (with axis parameter)"
      ],
      "metadata": {
        "id": "k0lzpiDqgDsa"
      }
    },
    {
      "cell_type": "markdown",
      "source": [
        "Applys a function to whole array and returns a number."
      ],
      "metadata": {
        "id": "-rgbdIjB9RZP"
      }
    },
    {
      "cell_type": "code",
      "source": [
        "x = np.array([[1,2,3],\n",
        "              [4,5,6],\n",
        "              [7,8,9]])\n",
        "print('Array: ')\n",
        "print(x)\n",
        "\n",
        "print('\\nSum of elements of matrice - np.sum(x) : ', np.sum(x))\n",
        "print('Product of elements of matrice - np.product(x) : ', np.product(x))\n",
        "\n",
        "print('\\nMinimum of elements of matrice - np.min(x) : ', np.min(x))\n",
        "print('Maximum of elements of matrice - np.max(x) : ', np.max(x))\n",
        "\n",
        "print('\\nAverage of elements of matrice - np.average(x) : ', np.average(x))\n",
        "print('Median of elements of matrice - np.median(x) : ', np.median(x))\n",
        "print('Variance of elements of matrice - np.var(x) : ', np.var(x))\n",
        "print('standard deviation of elements of matrice - np.std(x) : ', np.std(x))\n",
        "print('Norm of elements of matrice (norm of its flatten vector) - np.linalg.norm(x) : ', np.linalg.norm(x))"
      ],
      "metadata": {
        "colab": {
          "base_uri": "https://localhost:8080/"
        },
        "id": "-VPf_tg49W39",
        "outputId": "970dca82-329c-463c-a6e7-83bc7f8a7115"
      },
      "execution_count": null,
      "outputs": [
        {
          "output_type": "stream",
          "name": "stdout",
          "text": [
            "Array: \n",
            "[[1 2 3]\n",
            " [4 5 6]\n",
            " [7 8 9]]\n",
            "\n",
            "Sum of elements of matrice - np.sum(x) :  45\n",
            "Product of elements of matrice - np.product(x) :  362880\n",
            "\n",
            "Minimum of elements of matrice - np.min(x) :  1\n",
            "Maximum of elements of matrice - np.max(x) :  9\n",
            "\n",
            "Average of elements of matrice - np.average(x) :  5.0\n",
            "Median of elements of matrice - np.median(x) :  5.0\n",
            "Variance of elements of matrice - np.var(x) :  6.666666666666667\n",
            "standard deviation of elements of matrice - np.std(x) :  2.581988897471611\n",
            "Norm of elements of matrice (norm of its flatten vector) - np.linalg.norm(x) :  16.881943016134134\n"
          ]
        }
      ]
    },
    {
      "cell_type": "markdown",
      "source": [
        "\n",
        "\n",
        "**Axis parameter (in 2-d arrays)**\n",
        "\n",
        "Collective functions have a parameter named axis; and you can change its value to a number (or a tuple) so the function will be applied along different axises.\n",
        "\n",
        "For example if your array is a matrice (2-d array) by setting axis parameter of sum function to 0, you get an array that contains the values of sum of elements in each column. Similary by setting it to 1 you get the results in each row."
      ],
      "metadata": {
        "id": "I8CUxGsnL9fx"
      }
    },
    {
      "cell_type": "code",
      "source": [
        "x = np.array([[1,2,3],\n",
        "              [4,5,6],\n",
        "              [7,8,9]])\n",
        "print('Array: ')\n",
        "print(x)\n",
        "\n",
        "print('\\nSum of elements of matrice in each column - np.sum(x, axis=0) : ', np.sum(x, axis=0))\n",
        "print('Sum of elements of matrice in each row - np.sum(x, axis=1) : ', np.sum(x, axis=1))\n",
        "print('Sum of elements of matrice - np.sum(x, axis=[0,1]) : ', np.sum(x, axis=(0,1)))"
      ],
      "metadata": {
        "colab": {
          "base_uri": "https://localhost:8080/"
        },
        "id": "X31a7Jjn9btK",
        "outputId": "fd895cbf-6f13-4a72-ba39-368936eae279"
      },
      "execution_count": null,
      "outputs": [
        {
          "output_type": "stream",
          "name": "stdout",
          "text": [
            "Array: \n",
            "[[1 2 3]\n",
            " [4 5 6]\n",
            " [7 8 9]]\n",
            "\n",
            "Sum of elements of matrice in each column - np.sum(x, axis=0) :  [12 15 18]\n",
            "Sum of elements of matrice in each row - np.sum(x, axis=1) :  [ 6 15 24]\n",
            "Sum of elements of matrice - np.sum(x, axis=[0,1]) :  45\n"
          ]
        }
      ]
    },
    {
      "cell_type": "markdown",
      "source": [
        "**Axis parameter (in n-d arrays)**\n",
        "\n",
        "For arrays with more than 2 dimentions its hard to imagine the array itself. The key to undrestand the axises is to look at the input and output shapes.\n",
        "\n",
        "*Whatever indices we put in axises parameter, we loose those dimentions in the output.*\n",
        "\n",
        "Let's say we have an array with shape (10,480,640,3) (for example an array of 10 RGB images with quality of 480\\*640) and we want to calculate an average of this array in a way that the output be a (10,3) array (in our example, average of values of pixels in each picture and each RGB channel) so we want to remove second and third dimentions of the array; as a result, our axis in the average function must be (1,2) (indices start from 0)\n",
        "\n",
        "You can see an example below: "
      ],
      "metadata": {
        "id": "LOtmvsFzOVXU"
      }
    },
    {
      "cell_type": "code",
      "source": [
        "x = np.random.random((10,480,640,3))\n",
        "print('Original array shape: ', x.shape)\n",
        "\n",
        "avg = np.average(x, axis=(1,2))\n",
        "max = np.max(x, axis=(1,2))\n",
        "sum = np.sum(x, axis=(1,2))\n",
        "\n",
        "print(\"\\nAverage array shape with axis=(1,2) - np.average(x, axis=(1,2)): \", avg.shape)\n",
        "print(\"Max array shape with axis=(1,2) - np.max(x, axis=(1,2)):\\t \", max.shape)\n",
        "print(\"Sum array shape with axis=(1,2) - np.sum(x, axis=(1,2)):\\t \", sum.shape)"
      ],
      "metadata": {
        "colab": {
          "base_uri": "https://localhost:8080/"
        },
        "id": "zi9fe7zCRUrV",
        "outputId": "a7232bea-abe4-4d93-95bd-7606e9597c05"
      },
      "execution_count": null,
      "outputs": [
        {
          "output_type": "stream",
          "name": "stdout",
          "text": [
            "Original array shape:  (10, 480, 640, 3)\n",
            "\n",
            "Average array shape with axis=(1,2) - np.average(x, axis=(1,2)):  (10, 3)\n",
            "Max array shape with axis=(1,2) - np.max(x, axis=(1,2)):\t  (10, 3)\n",
            "Sum array shape with axis=(1,2) - np.sum(x, axis=(1,2)):\t  (10, 3)\n"
          ]
        }
      ]
    },
    {
      "cell_type": "markdown",
      "source": [
        "###Advanced programming with numpy (using where function and comperative operators)"
      ],
      "metadata": {
        "id": "qTkXW2eIquJf"
      }
    },
    {
      "cell_type": "markdown",
      "source": [
        "**Comparition of arrays**\n",
        "\n",
        "You can compare two equl-shape arrays (or arrays that can broadcast together (see [broadcasting section](https://colab.research.google.com/drive/1HoFGxoKij1WqAkaMRUb0xVKUpfxkWxZJ?authuser=1#scrollTo=Phbf1lh4vIf2))\n",
        "The result is an array of booleans that each cell's value, represents the result of comparition over corresponding cell's."
      ],
      "metadata": {
        "id": "tS1YTwLHrHSl"
      }
    },
    {
      "cell_type": "code",
      "source": [
        "a = np.array([[1,2],\n",
        "              [3,4]])\n",
        "print('First array: ')\n",
        "print(a)\n",
        "\n",
        "b = np.array([[2,2],\n",
        "              [2,2]])\n",
        "print('Second array: ')\n",
        "print(b)\n",
        "\n",
        "print('\\nResult of comparision a<b : ')\n",
        "print(a<b)\n",
        "print('Result of comparision a>b : ')\n",
        "print(a>b)\n",
        "print('Result of comparision a==b : ')\n",
        "print(a==b)\n",
        "\n",
        "print('\\nResult of comparision a<b and a<3 - np.logical_and(a<b, a<3): ')\n",
        "print(np.logical_and(a<b, a<3))\n",
        "print('Result of comparision a<b or a<3 - np.logical_or(a<b, a<3): ')\n",
        "print(np.logical_or(a<b, a<3))\n",
        "print('Result of comparision a<b xor a<3 - np.logical_xor(a<b, a<3): ')\n",
        "print(np.logical_xor(a<b, a<3))\n",
        "print('Result of comparision ~(a<b) - np.logical_not(a<b): ')\n",
        "print(np.logical_not(a<b))"
      ],
      "metadata": {
        "colab": {
          "base_uri": "https://localhost:8080/"
        },
        "id": "iVbckgk0rEgG",
        "outputId": "21e1999c-b85b-495f-b731-3c4d3ce8aef4"
      },
      "execution_count": null,
      "outputs": [
        {
          "output_type": "stream",
          "name": "stdout",
          "text": [
            "First array: \n",
            "[[1 2]\n",
            " [3 4]]\n",
            "Second array: \n",
            "[[2 2]\n",
            " [2 2]]\n",
            "\n",
            "Result of comparision a<b : \n",
            "[[ True False]\n",
            " [False False]]\n",
            "Result of comparision a>b : \n",
            "[[False False]\n",
            " [ True  True]]\n",
            "Result of comparision a==b : \n",
            "[[False  True]\n",
            " [False False]]\n",
            "\n",
            "Result of comparision a<b and a<3 - np.logical_and(a<b, a<3): \n",
            "[[ True False]\n",
            " [False False]]\n",
            "Result of comparision a<b or a<3 - np.logical_or(a<b, a<3): \n",
            "[[ True  True]\n",
            " [False False]]\n",
            "Result of comparision a<b xor a<3 - np.logical_xor(a<b, a<3): \n",
            "[[False  True]\n",
            " [False False]]\n",
            "Result of comparision ~(a<b) - np.logical_not(a<b): \n",
            "[[False  True]\n",
            " [ True  True]]\n"
          ]
        }
      ]
    },
    {
      "cell_type": "markdown",
      "source": [
        "**np.where(cond)**\n",
        "\n",
        "Suppose that you have a boolean array (an array with True/False elements) and you want to know which coordinates of it is True.\n",
        "\n",
        "You can find the result with np.where(A) function:"
      ],
      "metadata": {
        "id": "HoCpyCWHuGsO"
      }
    },
    {
      "cell_type": "code",
      "source": [
        "cond = np.array([[[True, False],\n",
        "                  [False, True]],\n",
        "                 [[True, True],\n",
        "                  [False, False]]])\n",
        "print('Coordinates of True values in each dimention: ', np.where(cond))"
      ],
      "metadata": {
        "colab": {
          "base_uri": "https://localhost:8080/"
        },
        "id": "SeSOIE3auGEI",
        "outputId": "f07d6f62-f312-4186-a4da-d28ea327e460"
      },
      "execution_count": null,
      "outputs": [
        {
          "output_type": "stream",
          "name": "stdout",
          "text": [
            "Coordinates of True values in each dimention:  (array([0, 0, 1, 1]), array([0, 1, 0, 0]), array([0, 1, 0, 1]))\n"
          ]
        }
      ]
    },
    {
      "cell_type": "markdown",
      "source": [
        "This means there are 4 True values in the array. and their first dimention coordinates are [0, 0, 1, 1] and their second dimention coordinates are [0, 1, 0, 0] and their third dimention coordinates are [0, 1, 0, 1].\n",
        "So if we pass these three vectors to the first array \n",
        "(see [array indexing](https://colab.research.google.com/drive/1HoFGxoKij1WqAkaMRUb0xVKUpfxkWxZJ?authuser=1#scrollTo=K8dqNsolRCvZ&line=3&uniqifier=1))\n",
        ", we should get the 4 primal True values  :"
      ],
      "metadata": {
        "id": "XIbyeA0VvoBc"
      }
    },
    {
      "cell_type": "code",
      "source": [
        "print(cond[np.where(cond)])"
      ],
      "metadata": {
        "colab": {
          "base_uri": "https://localhost:8080/"
        },
        "id": "wUE_a2-uwF85",
        "outputId": "64483bfd-e601-4999-86d5-e4a146d848fa"
      },
      "execution_count": null,
      "outputs": [
        {
          "output_type": "stream",
          "name": "stdout",
          "text": [
            "[ True  True  True  True]\n"
          ]
        }
      ]
    },
    {
      "cell_type": "markdown",
      "source": [
        "If we combine all these concepts together we get a powerfull tool to calculate things, whithout looping over them."
      ],
      "metadata": {
        "id": "Ne1e74R-whfC"
      }
    },
    {
      "cell_type": "markdown",
      "source": [
        "Lets say we want to multiply every odd value of an array by two: "
      ],
      "metadata": {
        "id": "GUh0M62Jyeic"
      }
    },
    {
      "cell_type": "code",
      "source": [
        "a = np.array([[1,2],\n",
        "              [3,4]])\n",
        "print('Array: ')\n",
        "print(a)\n",
        "\n",
        "a[np.where(a%2==1)] *= 2\n",
        "print('Array after changing: ')\n",
        "print(a)"
      ],
      "metadata": {
        "colab": {
          "base_uri": "https://localhost:8080/"
        },
        "id": "9v5Aw-gHxkuV",
        "outputId": "c04c65fe-1a6c-492c-c440-88854ef0cbc3"
      },
      "execution_count": null,
      "outputs": [
        {
          "output_type": "stream",
          "name": "stdout",
          "text": [
            "Array: \n",
            "[[1 2]\n",
            " [3 4]]\n",
            "Array after changing: \n",
            "[[2 2]\n",
            " [6 4]]\n"
          ]
        }
      ]
    },
    {
      "cell_type": "markdown",
      "source": [
        "Or we want to change value of every element of an array that has a value bigger than 2, to -1:"
      ],
      "metadata": {
        "id": "moatOw0zxZ_4"
      }
    },
    {
      "cell_type": "code",
      "source": [
        "a = np.array([[1,2],\n",
        "              [3,4]])\n",
        "print('Array: ')\n",
        "print(a)\n",
        "\n",
        "a[np.where(a>2)] = -1\n",
        "print('Array after changing: ')\n",
        "print(a)"
      ],
      "metadata": {
        "colab": {
          "base_uri": "https://localhost:8080/"
        },
        "id": "BlHG5nlMyOzM",
        "outputId": "8ee9fd95-fd42-499c-f5e1-115c6a8e1d52"
      },
      "execution_count": null,
      "outputs": [
        {
          "output_type": "stream",
          "name": "stdout",
          "text": [
            "Array: \n",
            "[[1 2]\n",
            " [3 4]]\n",
            "Array after changing: \n",
            "[[ 1  2]\n",
            " [-1 -1]]\n"
          ]
        }
      ]
    },
    {
      "cell_type": "markdown",
      "source": [
        "As shown, working with numpy arrays are a little tricky, but after you get used to it, using numpy arrays is even simpler than writing nested loops.\n",
        "so try to practice and get skilled in it. because as I showed you ([here](https://colab.research.google.com/drive/1HoFGxoKij1WqAkaMRUb0xVKUpfxkWxZJ?authuser=1#scrollTo=uhcmRjvYjSpi)), numpy arrays are so much faster than nested loops."
      ],
      "metadata": {
        "id": "rw34Kjq013vD"
      }
    },
    {
      "cell_type": "markdown",
      "source": [
        "##Copyright: Mohammad Reza Bateni - 2022 ([LinkedIn](https://ir.linkedin.com/in/mohammad-reza-bateni-a58936142))([Email](mailto:Bateni1380@gmail.com))\n"
      ],
      "metadata": {
        "id": "Z9UmoPu10HWa"
      }
    }
  ]
}